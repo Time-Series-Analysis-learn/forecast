{
 "cells": [
  {
   "cell_type": "code",
   "execution_count": 8,
   "metadata": {},
   "outputs": [],
   "source": [
    "# Importing neccesary libraries\n",
    "from forecast_x import forecast_x as fx"
   ]
  },
  {
   "cell_type": "code",
   "execution_count": 9,
   "metadata": {},
   "outputs": [],
   "source": [
    "# Time series to forecast\n",
    "ts = [49,48,57,56,58,42,40,124,101,59,28,79,91,87,125,48,54,89,49,65,67,53,51,65,85,97,90,89,79,43,41,90,84,85,39,80]\n",
    "freq = 12\n",
    "period_ahead = 12"
   ]
  },
  {
   "cell_type": "code",
   "execution_count": 10,
   "metadata": {},
   "outputs": [
    {
     "data": {
      "text/plain": [
       "<forecast_x.forecast_x.forecast at 0x4d9c588>"
      ]
     },
     "execution_count": 10,
     "metadata": {},
     "output_type": "execute_result"
    }
   ],
   "source": [
    "# Start the forecast library\n",
    "model = fx.forecast(ts, freq, period_ahead)\n",
    "model"
   ]
  },
  {
   "cell_type": "code",
   "execution_count": 11,
   "metadata": {},
   "outputs": [
    {
     "data": {
      "text/plain": [
       "[[65, 65, 65, 65, 65, 65, 65, 65, 65, 65, 65, 65, 65, 65, 65, 65],\n",
       " 407.0,\n",
       " [80, 80, 80, 80, 80, 80, 80, 80, 80, 80, 80, 80],\n",
       " True]"
      ]
     },
     "execution_count": 11,
     "metadata": {},
     "output_type": "execute_result"
    }
   ],
   "source": [
    "# Testing Models\n",
    "naive = model.model_naive()\n",
    "# Visualizing the data: \n",
    "# 1. Training Set\n",
    "# 2. Forecast Error (RSME)\n",
    "# 3. Forecast\n",
    "# 4. Valid Model?\n",
    "naive"
   ]
  },
  {
   "cell_type": "code",
   "execution_count": 12,
   "metadata": {},
   "outputs": [
    {
     "data": {
      "text/plain": [
       "'model_double_seas_mean'"
      ]
     },
     "execution_count": 12,
     "metadata": {},
     "output_type": "execute_result"
    }
   ],
   "source": [
    "# Allowing the class to select the best model base on multiple crossvalidation fitting\n",
    "best_model = model.best_model()\n",
    "\n",
    "# Winner model\n",
    "best_model"
   ]
  },
  {
   "cell_type": "code",
   "execution_count": 13,
   "metadata": {},
   "outputs": [
    {
     "data": {
      "text/plain": [
       "[642.2470852980329,\n",
       " 654.0792578734038,\n",
       " 638.2022646144461,\n",
       " 769.9290623722117,\n",
       " 809.1239323841148,\n",
       " 812.8870373052332,\n",
       " 586.4207850069585,\n",
       " 553.4453211655853]"
      ]
     },
     "execution_count": 13,
     "metadata": {},
     "output_type": "execute_result"
    }
   ],
   "source": [
    "# Visualizing the RSME on each cross validation fitting\n",
    "model.optimizer()['model_seas_double_mean_growth']"
   ]
  },
  {
   "cell_type": "code",
   "execution_count": 14,
   "metadata": {},
   "outputs": [
    {
     "data": {
      "text/plain": [
       "[72.75,\n",
       " 71.98958333333333,\n",
       " 71.36414930555556,\n",
       " 69.12932219328704,\n",
       " 70.00971061800733,\n",
       " 70.67678189375764,\n",
       " 69.9133144726642,\n",
       " 70.78470257569188,\n",
       " 71.02573184967905,\n",
       " 71.193470676749,\n",
       " 71.95153195494687,\n",
       " 72.82451245306966]"
      ]
     },
     "execution_count": 14,
     "metadata": {},
     "output_type": "execute_result"
    }
   ],
   "source": [
    "# The more historical data the model has, the more accurate it becomes\n",
    "# Finally getting the forecast based on model selected\n",
    "fcst = model.get_forecast(best_model)\n",
    "# Displaying final results\n",
    "fcst"
   ]
  },
  {
   "cell_type": "code",
   "execution_count": 15,
   "metadata": {},
   "outputs": [],
   "source": [
    "import matplotlib.pyplot as plt\n",
    "%matplotlib inline"
   ]
  },
  {
   "cell_type": "code",
   "execution_count": 16,
   "metadata": {},
   "outputs": [
    {
     "data": {
      "text/plain": [
       "[<matplotlib.lines.Line2D at 0x10674c18>]"
      ]
     },
     "execution_count": 16,
     "metadata": {},
     "output_type": "execute_result"
    },
    {
     "data": {
      "image/png": "[encoded data removed]",
      "text/plain": [
       "<Figure size 432x288 with 1 Axes>"
      ]
     },
     "metadata": {},
     "output_type": "display_data"
    }
   ],
   "source": [
    "plt.plot(fcst)"
   ]
  },
  {
   "cell_type": "code",
   "execution_count": null,
   "metadata": {},
   "outputs": [],
   "source": []
  }
 ],
 "metadata": {
  "kernelspec": {
   "display_name": "Python 3",
   "language": "python",
   "name": "python3"
  },
  "language_info": {
   "codemirror_mode": {
    "name": "ipython",
    "version": 3
   },
   "file_extension": ".py",
   "mimetype": "text/x-python",
   "name": "python",
   "nbconvert_exporter": "python",
   "pygments_lexer": "ipython3",
   "version": "3.7.2"
  }
 },
 "nbformat": 4,
 "nbformat_minor": 2
}
